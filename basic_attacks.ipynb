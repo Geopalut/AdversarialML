{
  "nbformat": 4,
  "nbformat_minor": 0,
  "metadata": {
    "colab": {
      "name": "basic_attacks.ipynb",
      "provenance": [],
      "collapsed_sections": [],
      "authorship_tag": "ABX9TyOOfyrptTExsgksf0TY52Us",
      "include_colab_link": true
    },
    "kernelspec": {
      "name": "python3",
      "display_name": "Python 3"
    },
    "accelerator": "GPU"
  },
  "cells": [
    {
      "cell_type": "markdown",
      "metadata": {
        "id": "view-in-github",
        "colab_type": "text"
      },
      "source": [
        "<a href=\"https://colab.research.google.com/github/Geopalut/AdversarialML/blob/master/basic_attacks.ipynb\" target=\"_parent\"><img src=\"https://colab.research.google.com/assets/colab-badge.svg\" alt=\"Open In Colab\"/></a>"
      ]
    },
    {
      "cell_type": "markdown",
      "metadata": {
        "id": "crP1vwcQMd2o",
        "colab_type": "text"
      },
      "source": [
        "## Attacking a basic convnet "
      ]
    },
    {
      "cell_type": "markdown",
      "metadata": {
        "id": "kmgoqNEPMgEU",
        "colab_type": "text"
      },
      "source": [
        "In this notebook I will experiment with different adversaries using a basic convolutionnal neural network trained on CIFAR10 as the target. The notebook is organised as follows:\n",
        "\n",
        "1. Building and training a basic net  \n",
        "2. Building adversarial examples using FGSM\n",
        "3. Building adversarial examples using a multiple step PGD\n",
        "4. Trying to improve the defense of the network using adversarial training. \n"
      ]
    },
    {
      "cell_type": "markdown",
      "metadata": {
        "id": "x199yfYUN3NW",
        "colab_type": "text"
      },
      "source": [
        "### 1. The target network\n",
        "\n",
        "For this example I build a basic convolutional neural network with three convolutionnal layers and two dense layers. \n",
        "\n",
        "There is also some light data processing to import CIFAR 10 images."
      ]
    },
    {
      "cell_type": "code",
      "metadata": {
        "id": "fZO9AZSpMaKx",
        "colab_type": "code",
        "colab": {}
      },
      "source": [
        "# Initial imports\n",
        "%matplotlib inline\n",
        "\n",
        "import torch\n",
        "import torchvision\n",
        "import torchvision.transforms as transforms\n",
        "\n",
        "import matplotlib.pyplot as plt\n",
        "import numpy as np\n"
      ],
      "execution_count": 1,
      "outputs": []
    },
    {
      "cell_type": "markdown",
      "metadata": {
        "id": "3dVvazjPSHFO",
        "colab_type": "text"
      },
      "source": [
        "#### Importing the data:\n",
        "I use the torchvision data loader to download the CIFAR 10 dataset. Images are of size 32x32 pixels with 3 channels (RGB) each channel have values in [0,1]. I transform it to [-1,1]."
      ]
    },
    {
      "cell_type": "code",
      "metadata": {
        "id": "3HEk1ZqASBLZ",
        "colab_type": "code",
        "colab": {
          "base_uri": "https://localhost:8080/",
          "height": 52
        },
        "outputId": "ba89af37-dd30-40b5-bb04-082cde5b7186"
      },
      "source": [
        "transform = transforms.Compose(\n",
        "    [transforms.ToTensor(),\n",
        "     transforms.Normalize((0.5, 0.5, 0.5), (0.5, 0.5, 0.5))])\n",
        "\n",
        "trainset = torchvision.datasets.CIFAR10(root='./data', train=True,\n",
        "                                        download=True, transform=transform)\n",
        "trainloader = torch.utils.data.DataLoader(trainset, batch_size=8,\n",
        "                                          shuffle=True, num_workers=1)\n",
        "\n",
        "testset = torchvision.datasets.CIFAR10(root='./data', train=False,\n",
        "                                       download=True, transform=transform)\n",
        "testloader = torch.utils.data.DataLoader(testset, batch_size=8,\n",
        "                                         shuffle=False, num_workers=1)\n",
        "\n",
        "classes = ('plane', 'car', 'bird', 'cat',\n",
        "           'deer', 'dog', 'frog', 'horse', 'ship', 'truck')"
      ],
      "execution_count": 19,
      "outputs": [
        {
          "output_type": "stream",
          "text": [
            "Files already downloaded and verified\n",
            "Files already downloaded and verified\n"
          ],
          "name": "stdout"
        }
      ]
    },
    {
      "cell_type": "markdown",
      "metadata": {
        "id": "4l-xk6XMcobC",
        "colab_type": "text"
      },
      "source": [
        "Setting up "
      ]
    },
    {
      "cell_type": "code",
      "metadata": {
        "id": "hgxX5PI6crQe",
        "colab_type": "code",
        "colab": {
          "base_uri": "https://localhost:8080/",
          "height": 35
        },
        "outputId": "49fef5ab-dee8-4b1e-fda5-ec3020976140"
      },
      "source": [
        "device = torch.device(\"cuda:0\" if torch.cuda.is_available() else \"cpu\")\n",
        "\n",
        "# Checking that a GPU is allocated to this session \n",
        "# if \"cpu\" appears, choose \"GPU\" in runtime > change runtime type > accelerator\n",
        "\n",
        "print(device)"
      ],
      "execution_count": 11,
      "outputs": [
        {
          "output_type": "stream",
          "text": [
            "cuda:0\n"
          ],
          "name": "stdout"
        }
      ]
    },
    {
      "cell_type": "markdown",
      "metadata": {
        "id": "j8kKkGP7TbTz",
        "colab_type": "text"
      },
      "source": [
        "Visualizing a sample of images.\n",
        "Images are blurry yet recognizable."
      ]
    },
    {
      "cell_type": "code",
      "metadata": {
        "id": "B27IeWPOSzBt",
        "colab_type": "code",
        "colab": {
          "base_uri": "https://localhost:8080/",
          "height": 155
        },
        "outputId": "1b3600a5-4934-45e9-dbb7-2a5bc0af1bf5"
      },
      "source": [
        "# functions to show an image (source : pytorch cifar_10 tutorial)\n",
        "\n",
        "def imshow(img):\n",
        "    img = img / 2 + 0.5     # unnormalize\n",
        "    npimg = img.numpy()\n",
        "    plt.imshow(np.transpose(npimg, (1, 2, 0)))\n",
        "    plt.show()\n",
        "\n",
        "\n",
        "# get some random training images\n",
        "dataiter = iter(trainloader)\n",
        "images, labels = dataiter.next()\n",
        "\n",
        "# show images\n",
        "imshow(torchvision.utils.make_grid(images))\n",
        "# print labels\n",
        "print(' '.join('%5s' % classes[labels[j]] for j in range(4)))"
      ],
      "execution_count": 14,
      "outputs": [
        {
          "output_type": "display_data",
          "data": {
            "image/png": "[encoded data removed]",
            "text/plain": [
              "<Figure size 432x288 with 1 Axes>"
            ]
          },
          "metadata": {
            "tags": [],
            "needs_background": "light"
          }
        },
        {
          "output_type": "stream",
          "text": [
            "  car   car  frog plane\n"
          ],
          "name": "stdout"
        }
      ]
    },
    {
      "cell_type": "markdown",
      "metadata": {
        "id": "ITesST7oTj4s",
        "colab_type": "text"
      },
      "source": [
        "#### Defining the convolutional network. \n",
        "\n",
        "Next we create the conv net that will be targeted. \n"
      ]
    },
    {
      "cell_type": "code",
      "metadata": {
        "id": "LoTquzKhTks3",
        "colab_type": "code",
        "colab": {
          "base_uri": "https://localhost:8080/",
          "height": 158
        },
        "outputId": "607697aa-7043-453b-a64f-5e3bfd3a2f55"
      },
      "source": [
        "import torch.nn as nn\n",
        "import torch.nn.functional as F\n",
        "\n",
        "\n",
        "class ConvNet(nn.Module):\n",
        "    def __init__(self):\n",
        "        super(ConvNet, self).__init__()\n",
        "        self.conv1 = nn.Conv2d(in_channels=3, out_channels=6, kernel_size=3, \n",
        "                               padding=1) # adding 1 pixel of O padding on both sides \n",
        "        self.pool = nn.MaxPool2d(kernel_size=2, stride=2)\n",
        "        self.conv2 = nn.Conv2d(in_channels=6, out_channels=16, kernel_size=3, \n",
        "                               padding=1)\n",
        "        self.conv3 = nn.Conv2d(in_channels=16, out_channels=32, kernel_size=3, \n",
        "                               padding=1)\n",
        "        self.fc1 = nn.Linear(in_features= 32 * 4 * 4, out_features=128, bias=True)\n",
        "        self.fc2 = nn.Linear(128, 10)\n",
        "\n",
        "    def forward(self, x):\n",
        "        x = self.pool(F.relu(self.conv1(x)))\n",
        "        x = self.pool(F.relu(self.conv2(x)))\n",
        "        x = self.pool(F.relu(self.conv3(x)))\n",
        "        # flattening the output so it can be used in a dense layer\n",
        "        x = x.view(x.size(0), -1) # resize to (size of the batch, -1)\n",
        "        x = F.relu(self.fc1(x))\n",
        "        x = self.fc2(x) # no need to compute the softmax, it is part of the loss\n",
        "        # criterion (cross_entropy)\n",
        "        return x\n",
        "\n",
        "\n",
        "net = ConvNet()\n",
        "net = net.to(device) # using the gpu"
      ],
      "execution_count": 24,
      "outputs": [
        {
          "output_type": "execute_result",
          "data": {
            "text/plain": [
              "ConvNet(\n",
              "  (conv1): Conv2d(3, 6, kernel_size=(3, 3), stride=(1, 1), padding=(1, 1))\n",
              "  (pool): MaxPool2d(kernel_size=2, stride=2, padding=0, dilation=1, ceil_mode=False)\n",
              "  (conv2): Conv2d(6, 16, kernel_size=(3, 3), stride=(1, 1), padding=(1, 1))\n",
              "  (conv3): Conv2d(16, 32, kernel_size=(3, 3), stride=(1, 1), padding=(1, 1))\n",
              "  (fc1): Linear(in_features=512, out_features=128, bias=True)\n",
              "  (fc2): Linear(in_features=128, out_features=10, bias=True)\n",
              ")"
            ]
          },
          "metadata": {
            "tags": []
          },
          "execution_count": 24
        }
      ]
    },
    {
      "cell_type": "markdown",
      "metadata": {
        "id": "_mWCqbtwbQfJ",
        "colab_type": "text"
      },
      "source": [
        "Defining the optimizer and the loss function.\n",
        "I used cross entropy for the loss and Adam for the optimizer."
      ]
    },
    {
      "cell_type": "code",
      "metadata": {
        "id": "f83-ONg2bLrg",
        "colab_type": "code",
        "colab": {}
      },
      "source": [
        "import torch.optim as optim\n",
        "\n",
        "criterion = nn.CrossEntropyLoss()\n",
        "optimizer = optim.Adam(params=net.parameters(), lr=0.001) # default parameters\n"
      ],
      "execution_count": 26,
      "outputs": []
    },
    {
      "cell_type": "markdown",
      "metadata": {
        "id": "0H0rJZb0cKjD",
        "colab_type": "text"
      },
      "source": [
        "Training loop "
      ]
    },
    {
      "cell_type": "code",
      "metadata": {
        "id": "a1hhNnHpcITp",
        "colab_type": "code",
        "colab": {
          "base_uri": "https://localhost:8080/",
          "height": 563
        },
        "outputId": "b6f2fe44-1681-4365-b529-e42dfb7d6734"
      },
      "source": [
        "for epoch in range(10):  \n",
        "\n",
        "    running_loss = 0.0\n",
        "    for i, data in enumerate(trainloader, 0):\n",
        "        # get the inputs; data is a list of [inputs, labels]\n",
        "        # sending them to the GPU at each step\n",
        "        inputs, labels = data[0].to(device), data[1].to(device)\n",
        "\n",
        "        # zero the parameter gradients\n",
        "        optimizer.zero_grad()\n",
        "\n",
        "        # forward + backward + optimize\n",
        "        outputs = net(inputs)\n",
        "        loss = criterion(outputs, labels)\n",
        "        loss.backward()\n",
        "        optimizer.step()\n",
        "\n",
        "        # print statistics\n",
        "        running_loss += loss.item()\n",
        "        if i % 2000 == 1999:    # print every 2000 mini-batches\n",
        "            print('[%d, %5d] loss: %.3f' %\n",
        "                  (epoch + 1, i + 1, running_loss / 2000))\n",
        "            running_loss = 0.0\n",
        "\n",
        "print('Finished Training')"
      ],
      "execution_count": 27,
      "outputs": [
        {
          "output_type": "stream",
          "text": [
            "[1,  2000] loss: 1.664\n",
            "[1,  4000] loss: 1.389\n",
            "[1,  6000] loss: 1.267\n",
            "[2,  2000] loss: 1.162\n",
            "[2,  4000] loss: 1.107\n",
            "[2,  6000] loss: 1.082\n",
            "[3,  2000] loss: 0.986\n",
            "[3,  4000] loss: 0.989\n",
            "[3,  6000] loss: 0.988\n",
            "[4,  2000] loss: 0.908\n",
            "[4,  4000] loss: 0.913\n",
            "[4,  6000] loss: 0.923\n",
            "[5,  2000] loss: 0.842\n",
            "[5,  4000] loss: 0.865\n",
            "[5,  6000] loss: 0.872\n",
            "[6,  2000] loss: 0.801\n",
            "[6,  4000] loss: 0.812\n",
            "[6,  6000] loss: 0.830\n",
            "[7,  2000] loss: 0.750\n",
            "[7,  4000] loss: 0.780\n",
            "[7,  6000] loss: 0.794\n",
            "[8,  2000] loss: 0.725\n",
            "[8,  4000] loss: 0.726\n",
            "[8,  6000] loss: 0.772\n",
            "[9,  2000] loss: 0.687\n",
            "[9,  4000] loss: 0.715\n",
            "[9,  6000] loss: 0.739\n",
            "[10,  2000] loss: 0.659\n",
            "[10,  4000] loss: 0.701\n",
            "[10,  6000] loss: 0.705\n",
            "Finished Training\n"
          ],
          "name": "stdout"
        }
      ]
    },
    {
      "cell_type": "code",
      "metadata": {
        "id": "54uZZjpdjAbv",
        "colab_type": "code",
        "colab": {}
      },
      "source": [
        "# saving the model \n",
        "\n",
        "# PATH = './cifar_net.pth'\n",
        "# torch.save(net.state_dict(), PATH)\n",
        "\n",
        "# loading the model\n",
        "\n",
        "# net = Net()\n",
        "# net.load_state_dict(torch.load(PATH))"
      ],
      "execution_count": null,
      "outputs": []
    },
    {
      "cell_type": "code",
      "metadata": {
        "id": "v4PC-O8gjAMi",
        "colab_type": "code",
        "colab": {
          "base_uri": "https://localhost:8080/",
          "height": 130
        },
        "outputId": "23a7191f-e069-451a-ac17-a994d484670b"
      },
      "source": [
        "dataiter = iter(testloader)\n",
        "images, labels = dataiter.next()\n",
        "\n",
        "# print images\n",
        "imshow(torchvision.utils.make_grid(images))\n",
        "print('GroundTruth: ', ' '.join('%5s' % classes[labels[j]] for j in range(8)))\n",
        "\n",
        "outputs = net(images.cuda())\n",
        "\n",
        "_, predicted = torch.max(outputs, 1)\n",
        "\n",
        "print('Predicted: ', ' '.join('%5s' % classes[predicted[j]]\n",
        "                              for j in range(8)))"
      ],
      "execution_count": 30,
      "outputs": [
        {
          "output_type": "display_data",
          "data": {
            "image/png": "[encoded data removed]",
            "text/plain": [
              "<Figure size 432x288 with 1 Axes>"
            ]
          },
          "metadata": {
            "tags": [],
            "needs_background": "light"
          }
        },
        {
          "output_type": "stream",
          "text": [
            "GroundTruth:    cat  ship  ship plane  frog  frog   car  frog\n",
            "Predicted:   ship  ship  ship plane  frog  frog   car  deer\n"
          ],
          "name": "stdout"
        }
      ]
    },
    {
      "cell_type": "code",
      "metadata": {
        "id": "vCq0iFdxjqEt",
        "colab_type": "code",
        "colab": {
          "base_uri": "https://localhost:8080/",
          "height": 35
        },
        "outputId": "9a7e27de-6f6d-4d45-d17d-14fa0446b562"
      },
      "source": [
        "# network performances:\n",
        "correct = 0\n",
        "total = 0\n",
        "with torch.no_grad():\n",
        "    for data in testloader:\n",
        "        images, labels = data[0].cuda(), data[1].cuda()\n",
        "        outputs = net(images)\n",
        "        _, predicted = torch.max(outputs.data, 1)\n",
        "        total += labels.size(0)\n",
        "        correct += (predicted == labels).sum().item()\n",
        "\n",
        "print('Accuracy of the network on the 10000 test images: %d %%' % (\n",
        "    100 * correct / total))"
      ],
      "execution_count": 32,
      "outputs": [
        {
          "output_type": "stream",
          "text": [
            "Accuracy of the network on the 10000 test images: 66 %\n"
          ],
          "name": "stdout"
        }
      ]
    },
    {
      "cell_type": "code",
      "metadata": {
        "id": "Hc8kP6DhjzKT",
        "colab_type": "code",
        "colab": {
          "base_uri": "https://localhost:8080/",
          "height": 193
        },
        "outputId": "38a924f0-4a56-4b03-9eb1-35091b51244b"
      },
      "source": [
        "class_correct = list(0. for i in range(10))\n",
        "class_total = list(0. for i in range(10))\n",
        "with torch.no_grad():\n",
        "    for data in testloader:\n",
        "        images, labels = data[0].cuda(), data[1].cuda()\n",
        "        outputs = net(images)\n",
        "        _, predicted = torch.max(outputs, 1)\n",
        "        c = (predicted == labels).squeeze()\n",
        "        for i in range(4):\n",
        "            label = labels[i]\n",
        "            class_correct[label] += c[i].item()\n",
        "            class_total[label] += 1\n",
        "\n",
        "\n",
        "for i in range(10):\n",
        "    print('Accuracy of %5s : %2d %%' % (\n",
        "        classes[i], 100 * class_correct[i] / class_total[i]))"
      ],
      "execution_count": 36,
      "outputs": [
        {
          "output_type": "stream",
          "text": [
            "Accuracy of plane : 61 %\n",
            "Accuracy of   car : 82 %\n",
            "Accuracy of  bird : 55 %\n",
            "Accuracy of   cat : 62 %\n",
            "Accuracy of  deer : 63 %\n",
            "Accuracy of   dog : 39 %\n",
            "Accuracy of  frog : 75 %\n",
            "Accuracy of horse : 73 %\n",
            "Accuracy of  ship : 74 %\n",
            "Accuracy of truck : 79 %\n"
          ],
          "name": "stdout"
        }
      ]
    },
    {
      "cell_type": "markdown",
      "metadata": {
        "id": "Lve5VXdzj3YW",
        "colab_type": "text"
      },
      "source": [
        "We now have a simple model to attack. The performances are far from perfect but its enough to experiment with basic attacks."
      ]
    },
    {
      "cell_type": "markdown",
      "metadata": {
        "id": "CnIRVYM4j3Be",
        "colab_type": "text"
      },
      "source": [
        "### 2. FGSM adversary\n",
        "\n",
        "This is a whitebox atttack where I have the full model and am able to compute the loss and its gradient to find the optimal direction in which to perturb the input."
      ]
    }
  ]
}