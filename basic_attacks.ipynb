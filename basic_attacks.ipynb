{
  "nbformat": 4,
  "nbformat_minor": 0,
  "metadata": {
    "colab": {
      "name": "basic_attacks.ipynb",
      "provenance": [],
      "collapsed_sections": [],
      "authorship_tag": "ABX9TyOok2CON9o4zcmKH6wIeAFm",
      "include_colab_link": true
    },
    "kernelspec": {
      "name": "python3",
      "display_name": "Python 3"
    },
    "accelerator": "GPU",
    "widgets": {
      "application/vnd.jupyter.widget-state+json": {
        "5fc11ea2a4cc43778f69fd15ba770267": {
          "model_module": "@jupyter-widgets/controls",
          "model_name": "HBoxModel",
          "state": {
            "_view_name": "HBoxView",
            "_dom_classes": [],
            "_model_name": "HBoxModel",
            "_view_module": "@jupyter-widgets/controls",
            "_model_module_version": "1.5.0",
            "_view_count": null,
            "_view_module_version": "1.5.0",
            "box_style": "",
            "layout": "IPY_MODEL_d5635bd5378948718ebd08ab59b0333e",
            "_model_module": "@jupyter-widgets/controls",
            "children": [
              "IPY_MODEL_1a891bf434d94445be7b8bb9b4f293a4",
              "IPY_MODEL_f50b834cd99648d4a15d0987b8d6f9a4"
            ]
          }
        },
        "d5635bd5378948718ebd08ab59b0333e": {
          "model_module": "@jupyter-widgets/base",
          "model_name": "LayoutModel",
          "state": {
            "_view_name": "LayoutView",
            "grid_template_rows": null,
            "right": null,
            "justify_content": null,
            "_view_module": "@jupyter-widgets/base",
            "overflow": null,
            "_model_module_version": "1.2.0",
            "_view_count": null,
            "flex_flow": null,
            "width": null,
            "min_width": null,
            "border": null,
            "align_items": null,
            "bottom": null,
            "_model_module": "@jupyter-widgets/base",
            "top": null,
            "grid_column": null,
            "overflow_y": null,
            "overflow_x": null,
            "grid_auto_flow": null,
            "grid_area": null,
            "grid_template_columns": null,
            "flex": null,
            "_model_name": "LayoutModel",
            "justify_items": null,
            "grid_row": null,
            "max_height": null,
            "align_content": null,
            "visibility": null,
            "align_self": null,
            "height": null,
            "min_height": null,
            "padding": null,
            "grid_auto_rows": null,
            "grid_gap": null,
            "max_width": null,
            "order": null,
            "_view_module_version": "1.2.0",
            "grid_template_areas": null,
            "object_position": null,
            "object_fit": null,
            "grid_auto_columns": null,
            "margin": null,
            "display": null,
            "left": null
          }
        },
        "1a891bf434d94445be7b8bb9b4f293a4": {
          "model_module": "@jupyter-widgets/controls",
          "model_name": "FloatProgressModel",
          "state": {
            "_view_name": "ProgressView",
            "style": "IPY_MODEL_61d98bf6ce5c4d809c05fe471b24ffe0",
            "_dom_classes": [],
            "description": "",
            "_model_name": "FloatProgressModel",
            "bar_style": "info",
            "max": 1,
            "_view_module": "@jupyter-widgets/controls",
            "_model_module_version": "1.5.0",
            "value": 1,
            "_view_count": null,
            "_view_module_version": "1.5.0",
            "orientation": "horizontal",
            "min": 0,
            "description_tooltip": null,
            "_model_module": "@jupyter-widgets/controls",
            "layout": "IPY_MODEL_300d8a8ef0fb48e598974a47bfb68e89"
          }
        },
        "f50b834cd99648d4a15d0987b8d6f9a4": {
          "model_module": "@jupyter-widgets/controls",
          "model_name": "HTMLModel",
          "state": {
            "_view_name": "HTMLView",
            "style": "IPY_MODEL_b6fafe8832054321a86c2004d4300d6d",
            "_dom_classes": [],
            "description": "",
            "_model_name": "HTMLModel",
            "placeholder": "​",
            "_view_module": "@jupyter-widgets/controls",
            "_model_module_version": "1.5.0",
            "value": " 170500096/? [00:30&lt;00:00, 15256360.30it/s]",
            "_view_count": null,
            "_view_module_version": "1.5.0",
            "description_tooltip": null,
            "_model_module": "@jupyter-widgets/controls",
            "layout": "IPY_MODEL_015736449a214ca0bb16b7c9b59ce648"
          }
        },
        "61d98bf6ce5c4d809c05fe471b24ffe0": {
          "model_module": "@jupyter-widgets/controls",
          "model_name": "ProgressStyleModel",
          "state": {
            "_view_name": "StyleView",
            "_model_name": "ProgressStyleModel",
            "description_width": "initial",
            "_view_module": "@jupyter-widgets/base",
            "_model_module_version": "1.5.0",
            "_view_count": null,
            "_view_module_version": "1.2.0",
            "bar_color": null,
            "_model_module": "@jupyter-widgets/controls"
          }
        },
        "300d8a8ef0fb48e598974a47bfb68e89": {
          "model_module": "@jupyter-widgets/base",
          "model_name": "LayoutModel",
          "state": {
            "_view_name": "LayoutView",
            "grid_template_rows": null,
            "right": null,
            "justify_content": null,
            "_view_module": "@jupyter-widgets/base",
            "overflow": null,
            "_model_module_version": "1.2.0",
            "_view_count": null,
            "flex_flow": null,
            "width": null,
            "min_width": null,
            "border": null,
            "align_items": null,
            "bottom": null,
            "_model_module": "@jupyter-widgets/base",
            "top": null,
            "grid_column": null,
            "overflow_y": null,
            "overflow_x": null,
            "grid_auto_flow": null,
            "grid_area": null,
            "grid_template_columns": null,
            "flex": null,
            "_model_name": "LayoutModel",
            "justify_items": null,
            "grid_row": null,
            "max_height": null,
            "align_content": null,
            "visibility": null,
            "align_self": null,
            "height": null,
            "min_height": null,
            "padding": null,
            "grid_auto_rows": null,
            "grid_gap": null,
            "max_width": null,
            "order": null,
            "_view_module_version": "1.2.0",
            "grid_template_areas": null,
            "object_position": null,
            "object_fit": null,
            "grid_auto_columns": null,
            "margin": null,
            "display": null,
            "left": null
          }
        },
        "b6fafe8832054321a86c2004d4300d6d": {
          "model_module": "@jupyter-widgets/controls",
          "model_name": "DescriptionStyleModel",
          "state": {
            "_view_name": "StyleView",
            "_model_name": "DescriptionStyleModel",
            "description_width": "",
            "_view_module": "@jupyter-widgets/base",
            "_model_module_version": "1.5.0",
            "_view_count": null,
            "_view_module_version": "1.2.0",
            "_model_module": "@jupyter-widgets/controls"
          }
        },
        "015736449a214ca0bb16b7c9b59ce648": {
          "model_module": "@jupyter-widgets/base",
          "model_name": "LayoutModel",
          "state": {
            "_view_name": "LayoutView",
            "grid_template_rows": null,
            "right": null,
            "justify_content": null,
            "_view_module": "@jupyter-widgets/base",
            "overflow": null,
            "_model_module_version": "1.2.0",
            "_view_count": null,
            "flex_flow": null,
            "width": null,
            "min_width": null,
            "border": null,
            "align_items": null,
            "bottom": null,
            "_model_module": "@jupyter-widgets/base",
            "top": null,
            "grid_column": null,
            "overflow_y": null,
            "overflow_x": null,
            "grid_auto_flow": null,
            "grid_area": null,
            "grid_template_columns": null,
            "flex": null,
            "_model_name": "LayoutModel",
            "justify_items": null,
            "grid_row": null,
            "max_height": null,
            "align_content": null,
            "visibility": null,
            "align_self": null,
            "height": null,
            "min_height": null,
            "padding": null,
            "grid_auto_rows": null,
            "grid_gap": null,
            "max_width": null,
            "order": null,
            "_view_module_version": "1.2.0",
            "grid_template_areas": null,
            "object_position": null,
            "object_fit": null,
            "grid_auto_columns": null,
            "margin": null,
            "display": null,
            "left": null
          }
        }
      }
    }
  },
  "cells": [
    {
      "cell_type": "markdown",
      "metadata": {
        "id": "view-in-github",
        "colab_type": "text"
      },
      "source": [
        "<a href=\"https://colab.research.google.com/github/Geopalut/AdversarialML/blob/master/basic_attacks.ipynb\" target=\"_parent\"><img src=\"https://colab.research.google.com/assets/colab-badge.svg\" alt=\"Open In Colab\"/></a>"
      ]
    },
    {
      "cell_type": "markdown",
      "metadata": {
        "id": "crP1vwcQMd2o",
        "colab_type": "text"
      },
      "source": [
        "## Attacking a basic convnet "
      ]
    },
    {
      "cell_type": "markdown",
      "metadata": {
        "id": "kmgoqNEPMgEU",
        "colab_type": "text"
      },
      "source": [
        "In this notebook I will experiment with different adversaries using a basic convolutionnal neural network trained on CIFAR10 as the target. The notebook is organised as follows:\n",
        "\n",
        "1. Building and training a basic net  \n",
        "2. Building adversarial examples using FGSM\n",
        "3. Building adversarial examples using a multiple step PGD\n",
        "4. Trying to improve the defense of the network using adversarial training. \n"
      ]
    },
    {
      "cell_type": "markdown",
      "metadata": {
        "id": "x199yfYUN3NW",
        "colab_type": "text"
      },
      "source": [
        "### 1. The target network\n",
        "\n",
        "For this example I build a basic convolutional neural network with three convolutionnal layers and two dense layers. \n",
        "\n",
        "There is also some light data processing to import CIFAR 10 images."
      ]
    },
    {
      "cell_type": "code",
      "metadata": {
        "id": "fZO9AZSpMaKx",
        "colab_type": "code",
        "colab": {}
      },
      "source": [
        "# Initial imports\n",
        "%matplotlib inline\n",
        "\n",
        "import torch\n",
        "import torchvision\n",
        "import torchvision.transforms as transforms\n",
        "\n",
        "import matplotlib.pyplot as plt\n",
        "import numpy as np\n"
      ],
      "execution_count": 1,
      "outputs": []
    },
    {
      "cell_type": "markdown",
      "metadata": {
        "id": "3dVvazjPSHFO",
        "colab_type": "text"
      },
      "source": [
        "#### Importing the data:\n",
        "I use the torchvision data loader to download the CIFAR 10 dataset. Images are of size 32x32 pixels with 3 channels (RGB) each channel have values in [0,1]. I transform it to [-1,1]."
      ]
    },
    {
      "cell_type": "code",
      "metadata": {
        "id": "3HEk1ZqASBLZ",
        "colab_type": "code",
        "colab": {
          "base_uri": "https://localhost:8080/",
          "height": 102,
          "referenced_widgets": [
            "5fc11ea2a4cc43778f69fd15ba770267",
            "d5635bd5378948718ebd08ab59b0333e",
            "1a891bf434d94445be7b8bb9b4f293a4",
            "f50b834cd99648d4a15d0987b8d6f9a4",
            "61d98bf6ce5c4d809c05fe471b24ffe0",
            "300d8a8ef0fb48e598974a47bfb68e89",
            "b6fafe8832054321a86c2004d4300d6d",
            "015736449a214ca0bb16b7c9b59ce648"
          ]
        },
        "outputId": "4b3cf81c-6617-452b-cc5c-9e0ca2ee1271"
      },
      "source": [
        "transform = transforms.Compose(\n",
        "    [transforms.ToTensor(),\n",
        "     transforms.Normalize((0.5, 0.5, 0.5), (0.5, 0.5, 0.5))])\n",
        "\n",
        "trainset = torchvision.datasets.CIFAR10(root='./data', train=True,\n",
        "                                        download=True, transform=transform)\n",
        "trainloader = torch.utils.data.DataLoader(trainset, batch_size=8,\n",
        "                                          shuffle=True, num_workers=1)\n",
        "\n",
        "testset = torchvision.datasets.CIFAR10(root='./data', train=False,\n",
        "                                       download=True, transform=transform)\n",
        "testloader = torch.utils.data.DataLoader(testset, batch_size=8,\n",
        "                                         shuffle=False, num_workers=1)\n",
        "\n",
        "classes = ('plane', 'car', 'bird', 'cat',\n",
        "           'deer', 'dog', 'frog', 'horse', 'ship', 'truck')"
      ],
      "execution_count": 2,
      "outputs": [
        {
          "output_type": "stream",
          "text": [
            "Downloading https://www.cs.toronto.edu/~kriz/cifar-10-python.tar.gz to ./data/cifar-10-python.tar.gz\n"
          ],
          "name": "stdout"
        },
        {
          "output_type": "display_data",
          "data": {
            "application/vnd.jupyter.widget-view+json": {
              "model_id": "5fc11ea2a4cc43778f69fd15ba770267",
              "version_minor": 0,
              "version_major": 2
            },
            "text/plain": [
              "HBox(children=(FloatProgress(value=1.0, bar_style='info', max=1.0), HTML(value='')))"
            ]
          },
          "metadata": {
            "tags": []
          }
        },
        {
          "output_type": "stream",
          "text": [
            "Extracting ./data/cifar-10-python.tar.gz to ./data\n",
            "Files already downloaded and verified\n"
          ],
          "name": "stdout"
        }
      ]
    },
    {
      "cell_type": "markdown",
      "metadata": {
        "id": "4l-xk6XMcobC",
        "colab_type": "text"
      },
      "source": [
        "Setting up "
      ]
    },
    {
      "cell_type": "code",
      "metadata": {
        "id": "hgxX5PI6crQe",
        "colab_type": "code",
        "colab": {
          "base_uri": "https://localhost:8080/",
          "height": 35
        },
        "outputId": "36296152-2fab-413b-c479-7c8a692f5bbc"
      },
      "source": [
        "device = torch.device(\"cuda:0\" if torch.cuda.is_available() else \"cpu\")\n",
        "\n",
        "# Checking that a GPU is allocated to this session \n",
        "# if \"cpu\" appears, choose \"GPU\" in runtime > change runtime type > accelerator\n",
        "\n",
        "print(device)"
      ],
      "execution_count": 3,
      "outputs": [
        {
          "output_type": "stream",
          "text": [
            "cuda:0\n"
          ],
          "name": "stdout"
        }
      ]
    },
    {
      "cell_type": "markdown",
      "metadata": {
        "id": "j8kKkGP7TbTz",
        "colab_type": "text"
      },
      "source": [
        "Visualizing a sample of images.\n",
        "Images are blurry yet recognizable."
      ]
    },
    {
      "cell_type": "code",
      "metadata": {
        "id": "B27IeWPOSzBt",
        "colab_type": "code",
        "colab": {
          "base_uri": "https://localhost:8080/",
          "height": 113
        },
        "outputId": "5984f3e4-f7b6-4ec7-ea03-ab3ff6149824"
      },
      "source": [
        "# functions to show an image (source : pytorch cifar_10 tutorial)\n",
        "\n",
        "def imshow(img):\n",
        "    img = img / 2 + 0.5     # unnormalize\n",
        "    npimg = img.numpy()\n",
        "    plt.imshow(np.transpose(npimg, (1, 2, 0)))\n",
        "    plt.show()\n",
        "\n",
        "\n",
        "# get some random training images\n",
        "dataiter = iter(trainloader)\n",
        "images, labels = dataiter.next()\n",
        "\n",
        "# show images\n",
        "imshow(torchvision.utils.make_grid(images))\n",
        "# print labels\n",
        "print(' '.join('%5s' % classes[labels[j]] for j in range(8)))"
      ],
      "execution_count": 54,
      "outputs": [
        {
          "output_type": "display_data",
          "data": {
            "image/png": "[encoded data removed]",
            "text/plain": [
              "<Figure size 432x288 with 1 Axes>"
            ]
          },
          "metadata": {
            "tags": [],
            "needs_background": "light"
          }
        },
        {
          "output_type": "stream",
          "text": [
            "truck   cat  ship   cat   dog horse   car   car\n"
          ],
          "name": "stdout"
        }
      ]
    },
    {
      "cell_type": "markdown",
      "metadata": {
        "id": "ITesST7oTj4s",
        "colab_type": "text"
      },
      "source": [
        "#### Defining the convolutional network. \n",
        "\n",
        "Next we create the conv net that will be targeted. \n"
      ]
    },
    {
      "cell_type": "code",
      "metadata": {
        "id": "LoTquzKhTks3",
        "colab_type": "code",
        "colab": {}
      },
      "source": [
        "import torch.nn as nn\n",
        "import torch.nn.functional as F\n",
        "\n",
        "\n",
        "class ConvNet(nn.Module):\n",
        "    def __init__(self):\n",
        "        super(ConvNet, self).__init__()\n",
        "        self.conv1 = nn.Conv2d(in_channels=3, out_channels=6, kernel_size=3, \n",
        "                               padding=1) # adding 1 pixel of O padding on both sides \n",
        "        self.pool = nn.MaxPool2d(kernel_size=2, stride=2)\n",
        "        self.conv2 = nn.Conv2d(in_channels=6, out_channels=16, kernel_size=3, \n",
        "                               padding=1)\n",
        "        self.conv3 = nn.Conv2d(in_channels=16, out_channels=32, kernel_size=3, \n",
        "                               padding=1)\n",
        "        self.fc1 = nn.Linear(in_features= 32 * 4 * 4, out_features=128, bias=True)\n",
        "        self.fc2 = nn.Linear(128, 10)\n",
        "\n",
        "    def forward(self, x):\n",
        "        x = self.pool(F.relu(self.conv1(x)))\n",
        "        x = self.pool(F.relu(self.conv2(x)))\n",
        "        x = self.pool(F.relu(self.conv3(x)))\n",
        "        # flattening the output so it can be used in a dense layer\n",
        "        x = x.view(x.size(0), -1) # resize to (size of the batch, -1)\n",
        "        x = F.relu(self.fc1(x))\n",
        "        x = self.fc2(x) # no need to compute the softmax, it is part of the loss\n",
        "        # criterion (cross_entropy)\n",
        "        return x\n",
        "\n",
        "\n",
        "net = ConvNet()\n",
        "net = net.to(device) # using the gpu"
      ],
      "execution_count": 4,
      "outputs": []
    },
    {
      "cell_type": "markdown",
      "metadata": {
        "id": "_mWCqbtwbQfJ",
        "colab_type": "text"
      },
      "source": [
        "Defining the optimizer and the loss function.\n",
        "I used cross entropy for the loss and Adam for the optimizer."
      ]
    },
    {
      "cell_type": "code",
      "metadata": {
        "id": "f83-ONg2bLrg",
        "colab_type": "code",
        "colab": {}
      },
      "source": [
        "import torch.optim as optim\n",
        "\n",
        "criterion = nn.CrossEntropyLoss()\n",
        "optimizer = optim.Adam(params=net.parameters(), lr=0.001) # default parameters\n"
      ],
      "execution_count": 5,
      "outputs": []
    },
    {
      "cell_type": "markdown",
      "metadata": {
        "id": "0H0rJZb0cKjD",
        "colab_type": "text"
      },
      "source": [
        "Training loop "
      ]
    },
    {
      "cell_type": "code",
      "metadata": {
        "id": "a1hhNnHpcITp",
        "colab_type": "code",
        "colab": {
          "base_uri": "https://localhost:8080/",
          "height": 563
        },
        "outputId": "c9d9d064-c4b2-408d-a5a7-02b14351d1bd"
      },
      "source": [
        "for epoch in range(10):  \n",
        "\n",
        "    running_loss = 0.0\n",
        "    for i, data in enumerate(trainloader, 0):\n",
        "        # get the inputs; data is a list of [inputs, labels]\n",
        "        # sending them to the GPU at each step\n",
        "        inputs, labels = data[0].to(device), data[1].to(device)\n",
        "\n",
        "        # zero the parameter gradients\n",
        "        optimizer.zero_grad()\n",
        "\n",
        "        # forward + backward + optimize\n",
        "        outputs = net(inputs)\n",
        "        loss = criterion(outputs, labels)\n",
        "        loss.backward()\n",
        "        optimizer.step()\n",
        "\n",
        "        # print statistics\n",
        "        running_loss += loss.item()\n",
        "        if i % 2000 == 1999:    # print every 2000 mini-batches\n",
        "            print('[%d, %5d] loss: %.3f' %\n",
        "                  (epoch + 1, i + 1, running_loss / 2000))\n",
        "            running_loss = 0.0\n",
        "\n",
        "print('Finished Training')"
      ],
      "execution_count": 57,
      "outputs": [
        {
          "output_type": "stream",
          "text": [
            "[1,  2000] loss: 1.727\n",
            "[1,  4000] loss: 1.459\n",
            "[1,  6000] loss: 1.348\n",
            "[2,  2000] loss: 1.218\n",
            "[2,  4000] loss: 1.176\n",
            "[2,  6000] loss: 1.126\n",
            "[3,  2000] loss: 1.060\n",
            "[3,  4000] loss: 1.026\n",
            "[3,  6000] loss: 1.016\n",
            "[4,  2000] loss: 0.937\n",
            "[4,  4000] loss: 0.956\n",
            "[4,  6000] loss: 0.962\n",
            "[5,  2000] loss: 0.876\n",
            "[5,  4000] loss: 0.894\n",
            "[5,  6000] loss: 0.899\n",
            "[6,  2000] loss: 0.817\n",
            "[6,  4000] loss: 0.838\n",
            "[6,  6000] loss: 0.852\n",
            "[7,  2000] loss: 0.779\n",
            "[7,  4000] loss: 0.809\n",
            "[7,  6000] loss: 0.801\n",
            "[8,  2000] loss: 0.734\n",
            "[8,  4000] loss: 0.768\n",
            "[8,  6000] loss: 0.776\n",
            "[9,  2000] loss: 0.702\n",
            "[9,  4000] loss: 0.745\n",
            "[9,  6000] loss: 0.757\n",
            "[10,  2000] loss: 0.679\n",
            "[10,  4000] loss: 0.690\n",
            "[10,  6000] loss: 0.738\n",
            "Finished Training\n"
          ],
          "name": "stdout"
        }
      ]
    },
    {
      "cell_type": "code",
      "metadata": {
        "id": "54uZZjpdjAbv",
        "colab_type": "code",
        "colab": {}
      },
      "source": [
        "model_PATH = './cifar_conv_net.pth'\n",
        "\n",
        "# saving the model \n",
        "\n",
        "torch.save(net.state_dict(), model_PATH)\n",
        "\n",
        "# loading the model\n",
        "\n",
        "# net = ConvNet()\n",
        "# net.load_state_dict(torch.load(model_PATH))"
      ],
      "execution_count": 58,
      "outputs": []
    },
    {
      "cell_type": "code",
      "metadata": {
        "id": "v4PC-O8gjAMi",
        "colab_type": "code",
        "colab": {
          "base_uri": "https://localhost:8080/",
          "height": 130
        },
        "outputId": "64392e87-bdd8-4e6a-9779-8eaee99b49a2"
      },
      "source": [
        "dataiter = iter(testloader)\n",
        "images, labels = dataiter.next()\n",
        "\n",
        "# print images\n",
        "imshow(torchvision.utils.make_grid(images))\n",
        "print('GroundTruth: ', ' '.join('%5s' % classes[labels[j]] for j in range(8)))\n",
        "\n",
        "outputs = net(images.cuda())\n",
        "\n",
        "_, predicted = torch.max(outputs, 1)\n",
        "\n",
        "print('Predicted: ', ' '.join('%5s' % classes[predicted[j]]\n",
        "                              for j in range(8)))"
      ],
      "execution_count": 59,
      "outputs": [
        {
          "output_type": "display_data",
          "data": {
            "image/png": "[encoded data removed]",
            "text/plain": [
              "<Figure size 432x288 with 1 Axes>"
            ]
          },
          "metadata": {
            "tags": [],
            "needs_background": "light"
          }
        },
        {
          "output_type": "stream",
          "text": [
            "GroundTruth:    cat  ship  ship plane  frog  frog   car  frog\n",
            "Predicted:    cat  ship  ship plane  deer  frog   car  frog\n"
          ],
          "name": "stdout"
        }
      ]
    },
    {
      "cell_type": "code",
      "metadata": {
        "id": "vCq0iFdxjqEt",
        "colab_type": "code",
        "colab": {
          "base_uri": "https://localhost:8080/",
          "height": 35
        },
        "outputId": "d37c61b0-f9fa-434c-c2f4-a1a6fad04d19"
      },
      "source": [
        "# network performances:\n",
        "correct = 0\n",
        "total = 0\n",
        "with torch.no_grad():\n",
        "    for data in testloader:\n",
        "        images, labels = data[0].cuda(), data[1].cuda()\n",
        "        outputs = net(images)\n",
        "        _, predicted = torch.max(outputs.data, 1)\n",
        "        total += labels.size(0)\n",
        "        correct += (predicted == labels).sum().item()\n",
        "\n",
        "print('Accuracy of the network on the 10000 test images: %d %%' % (\n",
        "    100 * correct / total))"
      ],
      "execution_count": 60,
      "outputs": [
        {
          "output_type": "stream",
          "text": [
            "Accuracy of the network on the 10000 test images: 66 %\n"
          ],
          "name": "stdout"
        }
      ]
    },
    {
      "cell_type": "code",
      "metadata": {
        "id": "Hc8kP6DhjzKT",
        "colab_type": "code",
        "colab": {
          "base_uri": "https://localhost:8080/",
          "height": 193
        },
        "outputId": "6e37c00c-7e26-43f3-a374-1ded2b0a37c0"
      },
      "source": [
        "class_correct = list(0. for i in range(10))\n",
        "class_total = list(0. for i in range(10))\n",
        "with torch.no_grad():\n",
        "    for data in testloader:\n",
        "        images, labels = data[0].cuda(), data[1].cuda()\n",
        "        outputs = net(images)\n",
        "        _, predicted = torch.max(outputs, 1)\n",
        "        c = (predicted == labels).squeeze()\n",
        "        for i in range(4):\n",
        "            label = labels[i]\n",
        "            class_correct[label] += c[i].item()\n",
        "            class_total[label] += 1\n",
        "\n",
        "\n",
        "for i in range(10):\n",
        "    print('Accuracy of %5s : %2d %%' % (\n",
        "        classes[i], 100 * class_correct[i] / class_total[i]))"
      ],
      "execution_count": 61,
      "outputs": [
        {
          "output_type": "stream",
          "text": [
            "Accuracy of plane : 73 %\n",
            "Accuracy of   car : 86 %\n",
            "Accuracy of  bird : 60 %\n",
            "Accuracy of   cat : 55 %\n",
            "Accuracy of  deer : 48 %\n",
            "Accuracy of   dog : 52 %\n",
            "Accuracy of  frog : 71 %\n",
            "Accuracy of horse : 71 %\n",
            "Accuracy of  ship : 75 %\n",
            "Accuracy of truck : 76 %\n"
          ],
          "name": "stdout"
        }
      ]
    },
    {
      "cell_type": "markdown",
      "metadata": {
        "id": "Lve5VXdzj3YW",
        "colab_type": "text"
      },
      "source": [
        "We now have a simple model to attack. The performances are far from perfect but its enough to experiment with basic attacks."
      ]
    },
    {
      "cell_type": "markdown",
      "metadata": {
        "id": "CnIRVYM4j3Be",
        "colab_type": "text"
      },
      "source": [
        "### 2. FGSM adversary\n",
        "\n",
        "This is a whitebox atttack where I have the full model and am able to compute the loss and its gradient to find the optimal direction in which to perturb the input."
      ]
    },
    {
      "cell_type": "code",
      "metadata": {
        "id": "1ROdSpbfuFHd",
        "colab_type": "code",
        "colab": {
          "base_uri": "https://localhost:8080/",
          "height": 35
        },
        "outputId": "7f1c56ee-77f7-4ce9-dc77-62c8c790c5f9"
      },
      "source": [
        "dataiter = iter(testloader)\n",
        "images, labels = dataiter.next()\n",
        "images, labels = images.cuda(), labels.cuda()\n",
        "images.requires_grad = True\n",
        "outputs = net(images)\n",
        "\n",
        "_, predicted = torch.max(outputs, 1)\n",
        "print('Predicted: ', ' '.join('%5s' % classes[predicted[j]]\n",
        "                              for j in range(8)))\n",
        "\n",
        "loss = criterion(outputs, labels)\n",
        "gradients = torch.autograd.grad(outputs=loss, inputs=images)"
      ],
      "execution_count": 62,
      "outputs": [
        {
          "output_type": "stream",
          "text": [
            "Predicted:    cat  ship  ship plane  deer  frog   car  frog\n"
          ],
          "name": "stdout"
        }
      ]
    },
    {
      "cell_type": "code",
      "metadata": {
        "id": "AO5Uk3YgxVC6",
        "colab_type": "code",
        "colab": {
          "base_uri": "https://localhost:8080/",
          "height": 35
        },
        "outputId": "1b192882-f34f-4a24-d741-3da76841b390"
      },
      "source": [
        "gradients[0].shape"
      ],
      "execution_count": 63,
      "outputs": [
        {
          "output_type": "execute_result",
          "data": {
            "text/plain": [
              "torch.Size([8, 3, 32, 32])"
            ]
          },
          "metadata": {
            "tags": []
          },
          "execution_count": 63
        }
      ]
    },
    {
      "cell_type": "code",
      "metadata": {
        "id": "bHeQT4zWeiOs",
        "colab_type": "code",
        "colab": {}
      },
      "source": [
        "def fgsm_attack(model, x_nat, y_nat, epsilon): \n",
        "  \"\"\" Given a set of natural examples and labels, returns a set of adversarial \n",
        "  examples within epsilon of their natural counterpart in l_inf norm.\n",
        "  \"\"\"\n",
        "  # possible to add the loss function as a parameter\n",
        "\n",
        "  # for each natural image I am interested in the gradient in the input space\n",
        "  x_nat.requires_grad = True\n",
        "  outputs = model(x_nat)\n",
        "  loss = criterion(outputs, y_nat)\n",
        "  gradients = torch.autograd.grad(outputs=loss, inputs=x_nat)[0]\n",
        "\n",
        "  # Collect the element-wise sign of the data gradient\n",
        "  grad_sign = gradients.sign()\n",
        "  # Create the perturbed images by adjusting each pixel of the input image\n",
        "  x_adv = x_nat + epsilon*grad_sign\n",
        "  # Adding clipping to maintain [-1,1] range\n",
        "  perturbed_image = torch.clamp(x_adv, -1, 1)\n",
        "  # Return the perturbed batch\n",
        "  return x_adv\n"
      ],
      "execution_count": 6,
      "outputs": []
    },
    {
      "cell_type": "code",
      "metadata": {
        "id": "gS8b_tIW1P4A",
        "colab_type": "code",
        "colab": {
          "base_uri": "https://localhost:8080/",
          "height": 35
        },
        "outputId": "d48b6355-d895-469a-993e-617cfcea4d03"
      },
      "source": [
        "x_adv = fgsm_attack(net,images, labels,epsilon=8/255)\n",
        "x_adv.shape"
      ],
      "execution_count": 65,
      "outputs": [
        {
          "output_type": "execute_result",
          "data": {
            "text/plain": [
              "torch.Size([8, 3, 32, 32])"
            ]
          },
          "metadata": {
            "tags": []
          },
          "execution_count": 65
        }
      ]
    },
    {
      "cell_type": "code",
      "metadata": {
        "id": "1OsHi-cx2SIO",
        "colab_type": "code",
        "colab": {
          "base_uri": "https://localhost:8080/",
          "height": 148
        },
        "outputId": "bdbc29e1-78d8-4eec-ce78-d6d66e99a0f1"
      },
      "source": [
        "dataiter = iter(testloader)\n",
        "images, labels = dataiter.next()\n",
        "images, labels = images.cuda(), labels.cuda()\n",
        "\n",
        "x_adv = fgsm_attack(net, images, labels, 8/255)\n",
        "\n",
        "outputs_adv = net(x_adv)\n",
        "\n",
        "# print images\n",
        "imshow(torchvision.utils.make_grid(x_adv.cpu().detach()))\n",
        "print('GroundTruth: ', ' '.join('%5s' % classes[labels[j]] for j in range(8)))\n",
        "\n",
        "_, predicted = torch.max(outputs_adv, 1)\n",
        "\n",
        "print('Predicted: ', ' '.join('%5s' % classes[predicted[j]]\n",
        "                              for j in range(8)))"
      ],
      "execution_count": 66,
      "outputs": [
        {
          "output_type": "stream",
          "text": [
            "Clipping input data to the valid range for imshow with RGB data ([0..1] for floats or [0..255] for integers).\n"
          ],
          "name": "stderr"
        },
        {
          "output_type": "display_data",
          "data": {
            "image/png": "[encoded data removed]",
            "text/plain": [
              "<Figure size 432x288 with 1 Axes>"
            ]
          },
          "metadata": {
            "tags": [],
            "needs_background": "light"
          }
        },
        {
          "output_type": "stream",
          "text": [
            "GroundTruth:    cat  ship  ship plane  frog  frog   car  frog\n",
            "Predicted:   bird   car truck  ship  deer   cat  frog  bird\n"
          ],
          "name": "stdout"
        }
      ]
    },
    {
      "cell_type": "markdown",
      "metadata": {
        "id": "5FZja8MM5yHw",
        "colab_type": "text"
      },
      "source": [
        "Looping over the test set to compute the adversarial accuracy against a FGSM adversary."
      ]
    },
    {
      "cell_type": "code",
      "metadata": {
        "id": "dfQ7CUup54TV",
        "colab_type": "code",
        "colab": {
          "base_uri": "https://localhost:8080/",
          "height": 35
        },
        "outputId": "0fb35a0b-da06-4606-ef91-66cfb23b56b6"
      },
      "source": [
        "correct = 0\n",
        "total = 0\n",
        "for data in testloader:\n",
        "    images, labels = data[0].cuda(), data[1].cuda()\n",
        "    adv_images = fgsm_attack(net,images,labels,epsilon=8/255)\n",
        "    outputs = net(adv_images)\n",
        "    _, predicted = torch.max(outputs.data, 1)\n",
        "    total += labels.size(0)\n",
        "    correct += (predicted == labels).sum().item()\n",
        "\n",
        "print('Accuracy of the network on the 10000 test images: %d %%' % (\n",
        "    100 * correct / total))"
      ],
      "execution_count": 67,
      "outputs": [
        {
          "output_type": "stream",
          "text": [
            "Accuracy of the network on the 10000 test images: 6 %\n"
          ],
          "name": "stdout"
        }
      ]
    },
    {
      "cell_type": "markdown",
      "metadata": {
        "id": "DHSBqRTw6nu5",
        "colab_type": "text"
      },
      "source": [
        "Accuracy fell from 66% to 6%. \n",
        "Looking at the perturbated images, the original class is still recognizable from a human perspective."
      ]
    },
    {
      "cell_type": "markdown",
      "metadata": {
        "id": "G1y-vxjp7wC8",
        "colab_type": "text"
      },
      "source": [
        "### 3. PGD adversary\n",
        "\n",
        "In this part I will use a multiple step Projected Gradient Descent as the adversary. \n",
        "The findings of Madry et al. (\"*Towards Deep Learning Models Resistant to Adversarial Attacks*\" https://arxiv.org/abs/1706.06083) show that it is the strongest attack using only first-order local information about the network."
      ]
    },
    {
      "cell_type": "code",
      "metadata": {
        "id": "vApaCHWl8jSP",
        "colab_type": "code",
        "colab": {}
      },
      "source": [
        "def pgd_attack(model, x_nat, y_nat, epsilon, n_steps, step_size=2/255, random_start = False):\n",
        "\n",
        "  # Starting with a random perturbation\n",
        "  if random_start:\n",
        "      x = x_nat + np.random.uniform(-epsilon, epsilon, x_nat.shape)\n",
        "      x = torch.clamp(x, -1, 1) # ensure valid pixel range\n",
        "  else:\n",
        "      x = x_nat\n",
        "\n",
        "  # Performing PGD in the input space\n",
        "  for i in range(n_steps):\n",
        "    # compute gradient\n",
        "    x_nat.requires_grad = True\n",
        "    outputs = model(x)\n",
        "    loss = criterion(outputs, y_nat)\n",
        "    grad = torch.autograd.grad(outputs=loss, inputs=x)[0]\n",
        "\n",
        "    # applying perturbation\n",
        "    x = torch.add(x, step_size * grad.sign())\n",
        "\n",
        "    x = torch.max(torch.min(x, x_nat + epsilon), x_nat - epsilon) # ensuring we \n",
        "    # remain within espilon of the original input\n",
        "    x = torch.clamp(x, -1, 1) # ensure valid pixel range\n",
        "\n",
        "  return x\n"
      ],
      "execution_count": 7,
      "outputs": []
    },
    {
      "cell_type": "code",
      "metadata": {
        "id": "EEx8JFMa5sTm",
        "colab_type": "code",
        "colab": {
          "base_uri": "https://localhost:8080/",
          "height": 130
        },
        "outputId": "edacf5d4-b3fd-4f11-9506-873c45cd1709"
      },
      "source": [
        "dataiter = iter(testloader)\n",
        "images, labels = dataiter.next()\n",
        "images, labels = images.cuda(), labels.cuda()\n",
        "\n",
        "x_adv = pgd_attack(net, images, labels, epsilon=8/255, n_steps=10)\n",
        "\n",
        "outputs_adv = net(x_adv)\n",
        "\n",
        "# print images\n",
        "imshow(torchvision.utils.make_grid(x_adv.cpu().detach()))\n",
        "print('GroundTruth: ', ' '.join('%5s' % classes[labels[j]] for j in range(8)))\n",
        "\n",
        "_, predicted = torch.max(outputs_adv, 1)\n",
        "\n",
        "print('Predicted: ', ' '.join('%5s' % classes[predicted[j]]\n",
        "                              for j in range(8)))"
      ],
      "execution_count": 69,
      "outputs": [
        {
          "output_type": "display_data",
          "data": {
            "image/png": "[encoded data removed]",
            "text/plain": [
              "<Figure size 432x288 with 1 Axes>"
            ]
          },
          "metadata": {
            "tags": [],
            "needs_background": "light"
          }
        },
        {
          "output_type": "stream",
          "text": [
            "GroundTruth:    cat  ship  ship plane  frog  frog   car  frog\n",
            "Predicted:  truck   car truck  ship  deer   cat  frog  bird\n"
          ],
          "name": "stdout"
        }
      ]
    },
    {
      "cell_type": "code",
      "metadata": {
        "id": "MbkEqOrLF1BL",
        "colab_type": "code",
        "colab": {
          "base_uri": "https://localhost:8080/",
          "height": 35
        },
        "outputId": "1afac422-ae65-4213-88eb-6341b4c87d4d"
      },
      "source": [
        "correct = 0\n",
        "total = 0\n",
        "for data in testloader:\n",
        "    images, labels = data[0].cuda(), data[1].cuda()\n",
        "    adv_images = pgd_attack(net,images,labels,epsilon=8/255, n_steps=10)\n",
        "    outputs = net(adv_images)\n",
        "    _, predicted = torch.max(outputs.data, 1)\n",
        "    total += labels.size(0)\n",
        "    correct += (predicted == labels).sum().item()\n",
        "\n",
        "print('Accuracy of the network on the 10000 test images: %d %%' % (\n",
        "    100 * correct / total))"
      ],
      "execution_count": 70,
      "outputs": [
        {
          "output_type": "stream",
          "text": [
            "Accuracy of the network on the 10000 test images: 0 %\n"
          ],
          "name": "stdout"
        }
      ]
    },
    {
      "cell_type": "markdown",
      "metadata": {
        "id": "ByfveJMtVd9C",
        "colab_type": "text"
      },
      "source": [
        "### 4. Adversarial training\n",
        "\n",
        "Here during training we will compute the adversarial version of each batch and use it to train the model. (The model is trained only on adversarial examples following chat Madry et al. describe in their paper).\n"
      ]
    },
    {
      "cell_type": "code",
      "metadata": {
        "id": "DYE09yPxWKkZ",
        "colab_type": "code",
        "colab": {
          "base_uri": "https://localhost:8080/",
          "height": 1000
        },
        "outputId": "2b13c8d7-6c53-42a4-b313-c1fbb429ef68"
      },
      "source": [
        "import torch.optim as optim\n",
        "\n",
        "# Instanciating neural network\n",
        "robust_net_fgsm = ConvNet()\n",
        "robust_net_fgsm = robust_net_fgsm.to(device) # using the gpu\n",
        "\n",
        "criterion = nn.CrossEntropyLoss()\n",
        "optimizer = optim.Adam(params=robust_net_fgsm.parameters(), lr=0.001) # default parameters\n",
        "\n",
        "for epoch in range(10):  \n",
        "\n",
        "    running_nat_loss = 0.0\n",
        "    running_adv_loss = 0.0\n",
        "    for i, data in enumerate(trainloader, 0):\n",
        "        # get the inputs; data is a list of [inputs, labels]\n",
        "        # sending them to the GPU at each step\n",
        "        inputs, labels = data[0].to(device), data[1].to(device)\n",
        "\n",
        "        # zero the parameter gradients\n",
        "        optimizer.zero_grad()\n",
        "\n",
        "        # Compute adversarial examples \n",
        "        adv_inputs = fgsm_attack(robust_net_fgsm, inputs, labels, 8/255)\n",
        "        \n",
        "        # forward + backward + optimize\n",
        "        nat_outputs = robust_net_fgsm(inputs)\n",
        "        adv_outputs = robust_net_fgsm(adv_inputs)\n",
        "        \n",
        "        adv_loss = criterion(adv_outputs, labels)\n",
        "        adv_loss.backward()\n",
        "        optimizer.step()\n",
        "\n",
        "        # print statistics\n",
        "        nat_loss = criterion(nat_outputs, labels)\n",
        "        running_nat_loss += nat_loss.item()\n",
        "        running_adv_loss += adv_loss.item()\n",
        "        if i % 2000 == 1999:    # print every 2000 mini-batches\n",
        "            print('[%d, %5d] nat loss: %.3f \\nadv loss: %.3f' %\n",
        "                  (epoch + 1, i + 1, running_nat_loss / 2000,running_adv_loss / 2000))\n",
        "            running_nat_loss = 0\n",
        "            running_adv_loss = 0\n",
        "\n",
        "print('Finished Adversarial Training')"
      ],
      "execution_count": 10,
      "outputs": [
        {
          "output_type": "stream",
          "text": [
            "[1,  2000] nat loss: 1.886 \n",
            "adv loss: 2.025\n",
            "[1,  4000] nat loss: 1.645 \n",
            "adv loss: 1.857\n",
            "[1,  6000] nat loss: 1.560 \n",
            "adv loss: 1.793\n",
            "[2,  2000] nat loss: 1.506 \n",
            "adv loss: 1.758\n",
            "[2,  4000] nat loss: 1.468 \n",
            "adv loss: 1.731\n",
            "[2,  6000] nat loss: 1.437 \n",
            "adv loss: 1.708\n",
            "[3,  2000] nat loss: 1.406 \n",
            "adv loss: 1.686\n",
            "[3,  4000] nat loss: 1.405 \n",
            "adv loss: 1.688\n",
            "[3,  6000] nat loss: 1.393 \n",
            "adv loss: 1.677\n",
            "[4,  2000] nat loss: 1.364 \n",
            "adv loss: 1.661\n",
            "[4,  4000] nat loss: 1.363 \n",
            "adv loss: 1.656\n",
            "[4,  6000] nat loss: 1.352 \n",
            "adv loss: 1.651\n",
            "[5,  2000] nat loss: 1.332 \n",
            "adv loss: 1.633\n",
            "[5,  4000] nat loss: 1.324 \n",
            "adv loss: 1.631\n",
            "[5,  6000] nat loss: 1.328 \n",
            "adv loss: 1.638\n",
            "[6,  2000] nat loss: 1.299 \n",
            "adv loss: 1.613\n",
            "[6,  4000] nat loss: 1.309 \n",
            "adv loss: 1.623\n",
            "[6,  6000] nat loss: 1.320 \n",
            "adv loss: 1.633\n",
            "[7,  2000] nat loss: 1.276 \n",
            "adv loss: 1.598\n",
            "[7,  4000] nat loss: 1.300 \n",
            "adv loss: 1.618\n",
            "[7,  6000] nat loss: 1.302 \n",
            "adv loss: 1.618\n",
            "[8,  2000] nat loss: 1.263 \n",
            "adv loss: 1.587\n",
            "[8,  4000] nat loss: 1.282 \n",
            "adv loss: 1.608\n",
            "[8,  6000] nat loss: 1.281 \n",
            "adv loss: 1.604\n",
            "[9,  2000] nat loss: 1.251 \n",
            "adv loss: 1.580\n",
            "[9,  4000] nat loss: 1.281 \n",
            "adv loss: 1.608\n",
            "[9,  6000] nat loss: 1.277 \n",
            "adv loss: 1.600\n",
            "[10,  2000] nat loss: 1.257 \n",
            "adv loss: 1.588\n",
            "[10,  4000] nat loss: 1.259 \n",
            "adv loss: 1.589\n",
            "[10,  6000] nat loss: 1.255 \n",
            "adv loss: 1.586\n",
            "Finished Adversarial Training\n"
          ],
          "name": "stdout"
        }
      ]
    },
    {
      "cell_type": "code",
      "metadata": {
        "id": "2kiiWvmSwOut",
        "colab_type": "code",
        "colab": {
          "base_uri": "https://localhost:8080/",
          "height": 87
        },
        "outputId": "7e2ae4c3-8944-4234-f925-8750ddbced11"
      },
      "source": [
        "# computing accuracies \n",
        "\n",
        "correct_nat = 0\n",
        "correct_fgsm = 0\n",
        "correct_pgd = 0\n",
        "total = 0\n",
        "for data in testloader:\n",
        "    images, labels = data[0].cuda(), data[1].cuda()\n",
        "    fgsm_images = fgsm_attack(robust_net_fgsm,images,labels,epsilon=8/255)\n",
        "    pgd_images = pgd_attack(robust_net_fgsm,images,labels,epsilon=8/255, n_steps=10)\n",
        "    outputs_nat = robust_net_fgsm(images)\n",
        "    outputs_fgsm = robust_net_fgsm(fgsm_images)\n",
        "    outputs_pgd = robust_net_fgsm(pgd_images)\n",
        "    _, predicted_nat = torch.max(outputs_nat.data, 1)\n",
        "    _, predicted_fgsm = torch.max(outputs_fgsm.data, 1)\n",
        "    _, predicted_pgd = torch.max(outputs_pgd.data, 1)\n",
        "    total += labels.size(0)\n",
        "    correct_nat += (predicted_nat == labels).sum().item()\n",
        "    correct_fgsm += (predicted_fgsm == labels).sum().item()\n",
        "    correct_pgd += (predicted_pgd == labels).sum().item()\n",
        "\n",
        "print('Accuracy of the network on the 10000 test images:\\nNatural accuracy %d %%\\nAccuracy against FGSM %d %%\\nAccuracy against 10 step pgd %d %%' % \n",
        "      (100 * correct_nat / total,100 * correct_fgsm / total ,100 * correct_pgd / total))"
      ],
      "execution_count": 11,
      "outputs": [
        {
          "output_type": "stream",
          "text": [
            "Accuracy of the network on the 10000 test images:\n",
            "Natural accuracy 54 %\n",
            "Accuracy against FGSM 38 %\n",
            "Accuracy against 10 step pgd 36 %\n"
          ],
          "name": "stdout"
        }
      ]
    },
    {
      "cell_type": "markdown",
      "metadata": {
        "id": "yMQhvFH73N15",
        "colab_type": "text"
      },
      "source": [
        "There is a drop in the natural accuracy but a much increased robustness to adversarial examples. \n",
        "This also point to the PGD as the strongest adversary."
      ]
    },
    {
      "cell_type": "code",
      "metadata": {
        "id": "YxX0h6bs3Mjn",
        "colab_type": "code",
        "colab": {}
      },
      "source": [
        ""
      ],
      "execution_count": null,
      "outputs": []
    }
  ]
}