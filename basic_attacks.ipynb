{
  "nbformat": 4,
  "nbformat_minor": 0,
  "metadata": {
    "colab": {
      "name": "basic_attacks.ipynb",
      "provenance": [],
      "collapsed_sections": [],
      "authorship_tag": "ABX9TyN0eKnMLKvBEAUldvIsp9BX",
      "include_colab_link": true
    },
    "kernelspec": {
      "name": "python3",
      "display_name": "Python 3"
    }
  },
  "cells": [
    {
      "cell_type": "markdown",
      "metadata": {
        "id": "view-in-github",
        "colab_type": "text"
      },
      "source": [
        "<a href=\"https://colab.research.google.com/github/Geopalut/AdversarialML/blob/master/basic_attacks.ipynb\" target=\"_parent\"><img src=\"https://colab.research.google.com/assets/colab-badge.svg\" alt=\"Open In Colab\"/></a>"
      ]
    },
    {
      "cell_type": "markdown",
      "metadata": {
        "id": "crP1vwcQMd2o",
        "colab_type": "text"
      },
      "source": [
        "## Attacking a basic convnet "
      ]
    },
    {
      "cell_type": "markdown",
      "metadata": {
        "id": "kmgoqNEPMgEU",
        "colab_type": "text"
      },
      "source": [
        "In this notebook I will experiment with different adversaries using a basic convolutionnal neural network trained on CIFAR10 as the target. The notebook is organised as follows:\n",
        "\n",
        "1. Building and training a basic net  \n",
        "2. Building adversarial examples using FGSM\n",
        "3. Building adversarial examples using a multiple step PGD\n",
        "4. Trying to improve the defense of the network using adversarial training. \n"
      ]
    },
    {
      "cell_type": "markdown",
      "metadata": {
        "id": "x199yfYUN3NW",
        "colab_type": "text"
      },
      "source": [
        "### 1. The target network\n",
        "\n",
        "For this example I build a basic convolutional neural network with three convolutionnal layers and two dense layers. \n",
        "There is also some loght data processing to import CIFAR 10 images."
      ]
    },
    {
      "cell_type": "code",
      "metadata": {
        "id": "fZO9AZSpMaKx",
        "colab_type": "code",
        "colab": {}
      },
      "source": [
        ""
      ],
      "execution_count": null,
      "outputs": []
    }
  ]
}